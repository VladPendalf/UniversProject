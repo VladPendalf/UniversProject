{
 "cells": [
  {
   "cell_type": "markdown",
   "metadata": {},
   "source": [
    "Практическое задание 4\n",
    "КМБО-06-20, Бундуки Владислав, Вариант 2"
   ]
  },
  {
   "cell_type": "raw",
   "metadata": {},
   "source": [
    "исходные данные:\n",
    "1) Набор данных - https://www.kaggle.com/arashnic/hr-analytics-job-change-of-data-scientists?select=aug_test.csv\n",
    "2) Тип классификатора - LogisticRegression(логистическая регрессия)\n",
    "3) Классификация по стобцу - Education level (Masters – класс 0, остальные уровни – класс 1)"
   ]
  },
  {
   "cell_type": "markdown",
   "metadata": {},
   "source": [
    "Устанавливаем необходимые библиотеки:"
   ]
  },
  {
   "cell_type": "code",
   "execution_count": null,
   "metadata": {},
   "outputs": [],
   "source": [
    "!pip install pandas\n",
    "!pip install sklearn"
   ]
  },
  {
   "cell_type": "code",
   "execution_count": 1,
   "metadata": {},
   "outputs": [
    {
     "data": {
      "text/html": [
       "<div>\n",
       "<style scoped>\n",
       "    .dataframe tbody tr th:only-of-type {\n",
       "        vertical-align: middle;\n",
       "    }\n",
       "\n",
       "    .dataframe tbody tr th {\n",
       "        vertical-align: top;\n",
       "    }\n",
       "\n",
       "    .dataframe thead th {\n",
       "        text-align: right;\n",
       "    }\n",
       "</style>\n",
       "<table border=\"1\" class=\"dataframe\">\n",
       "  <thead>\n",
       "    <tr style=\"text-align: right;\">\n",
       "      <th></th>\n",
       "      <th>city_development_index</th>\n",
       "      <th>gender</th>\n",
       "      <th>relevent_experience</th>\n",
       "      <th>enrolled_university</th>\n",
       "      <th>education_level</th>\n",
       "      <th>major_discipline</th>\n",
       "      <th>experience</th>\n",
       "      <th>company_size</th>\n",
       "      <th>company_type</th>\n",
       "      <th>last_new_job</th>\n",
       "      <th>training_hours</th>\n",
       "    </tr>\n",
       "    <tr>\n",
       "      <th>city</th>\n",
       "      <th></th>\n",
       "      <th></th>\n",
       "      <th></th>\n",
       "      <th></th>\n",
       "      <th></th>\n",
       "      <th></th>\n",
       "      <th></th>\n",
       "      <th></th>\n",
       "      <th></th>\n",
       "      <th></th>\n",
       "      <th></th>\n",
       "    </tr>\n",
       "  </thead>\n",
       "  <tbody>\n",
       "    <tr>\n",
       "      <th>city_41</th>\n",
       "      <td>0.827</td>\n",
       "      <td>Male</td>\n",
       "      <td>Has relevent experience</td>\n",
       "      <td>Full time course</td>\n",
       "      <td>Graduate</td>\n",
       "      <td>STEM</td>\n",
       "      <td>9</td>\n",
       "      <td>&lt;10</td>\n",
       "      <td>NaN</td>\n",
       "      <td>1</td>\n",
       "      <td>21</td>\n",
       "    </tr>\n",
       "    <tr>\n",
       "      <th>city_103</th>\n",
       "      <td>0.920</td>\n",
       "      <td>Female</td>\n",
       "      <td>Has relevent experience</td>\n",
       "      <td>no_enrollment</td>\n",
       "      <td>Graduate</td>\n",
       "      <td>STEM</td>\n",
       "      <td>5</td>\n",
       "      <td>NaN</td>\n",
       "      <td>Pvt Ltd</td>\n",
       "      <td>1</td>\n",
       "      <td>98</td>\n",
       "    </tr>\n",
       "    <tr>\n",
       "      <th>city_21</th>\n",
       "      <td>0.624</td>\n",
       "      <td>Male</td>\n",
       "      <td>No relevent experience</td>\n",
       "      <td>no_enrollment</td>\n",
       "      <td>High School</td>\n",
       "      <td>NaN</td>\n",
       "      <td>&lt;1</td>\n",
       "      <td>NaN</td>\n",
       "      <td>Pvt Ltd</td>\n",
       "      <td>never</td>\n",
       "      <td>15</td>\n",
       "    </tr>\n",
       "    <tr>\n",
       "      <th>city_13</th>\n",
       "      <td>0.827</td>\n",
       "      <td>Male</td>\n",
       "      <td>Has relevent experience</td>\n",
       "      <td>no_enrollment</td>\n",
       "      <td>Masters</td>\n",
       "      <td>STEM</td>\n",
       "      <td>11</td>\n",
       "      <td>10/49</td>\n",
       "      <td>Pvt Ltd</td>\n",
       "      <td>1</td>\n",
       "      <td>39</td>\n",
       "    </tr>\n",
       "    <tr>\n",
       "      <th>city_103</th>\n",
       "      <td>0.920</td>\n",
       "      <td>Male</td>\n",
       "      <td>Has relevent experience</td>\n",
       "      <td>no_enrollment</td>\n",
       "      <td>Graduate</td>\n",
       "      <td>STEM</td>\n",
       "      <td>&gt;20</td>\n",
       "      <td>10000+</td>\n",
       "      <td>Pvt Ltd</td>\n",
       "      <td>&gt;4</td>\n",
       "      <td>72</td>\n",
       "    </tr>\n",
       "  </tbody>\n",
       "</table>\n",
       "</div>"
      ],
      "text/plain": [
       "          city_development_index  gender      relevent_experience  \\\n",
       "city                                                                \n",
       "city_41                    0.827    Male  Has relevent experience   \n",
       "city_103                   0.920  Female  Has relevent experience   \n",
       "city_21                    0.624    Male   No relevent experience   \n",
       "city_13                    0.827    Male  Has relevent experience   \n",
       "city_103                   0.920    Male  Has relevent experience   \n",
       "\n",
       "         enrolled_university education_level major_discipline experience  \\\n",
       "city                                                                       \n",
       "city_41     Full time course        Graduate             STEM          9   \n",
       "city_103       no_enrollment        Graduate             STEM          5   \n",
       "city_21        no_enrollment     High School              NaN         <1   \n",
       "city_13        no_enrollment         Masters             STEM         11   \n",
       "city_103       no_enrollment        Graduate             STEM        >20   \n",
       "\n",
       "         company_size company_type last_new_job  training_hours  \n",
       "city                                                             \n",
       "city_41           <10          NaN            1              21  \n",
       "city_103          NaN      Pvt Ltd            1              98  \n",
       "city_21           NaN      Pvt Ltd        never              15  \n",
       "city_13         10/49      Pvt Ltd            1              39  \n",
       "city_103       10000+      Pvt Ltd           >4              72  "
      ]
     },
     "execution_count": 1,
     "metadata": {},
     "output_type": "execute_result"
    }
   ],
   "source": [
    "import pandas as pd\n",
    "import numpy as np\n",
    "import warnings\n",
    "warnings.filterwarnings('ignore')\n",
    "data = pd.read_csv('aug_test.csv', index_col='city')\n",
    "\n",
    "#исключим столбец с уникальными значениями: enrollee_id\t\n",
    "data = data[data.columns.drop(['enrollee_id'])]\n",
    "data.head()"
   ]
  },
  {
   "cell_type": "markdown",
   "metadata": {},
   "source": [
    "Описание столбцов:\n",
    "enrollee_id :  уникальный идентификатор кандидата\n",
    "\n",
    "city: Код города\n",
    "\n",
    "city_ development _index : индекс развития города (в масштабе)\n",
    "\n",
    "gender: Пол кандидата\n",
    "\n",
    "relevent_experience: Соответствующий опыт кандидата\n",
    "\n",
    "enrolled_university: Тип зачисленных университетских курсов, если таковые имеются.\n",
    "\n",
    "education_level: Уровень образования кандидата\n",
    "\n",
    "major_discipline :Обучение основной дисциплине кандидата\n",
    "\n",
    "experience: Кандидатский общий стаж в годах\n",
    "\n",
    "company_size: Количество сотрудников в компании текущего работодателя\n",
    "\n",
    "company_type : Тип текущего работодателя\n",
    "\n",
    "lastnewjob: разница в годах между предыдущей работой и текущей работой\n",
    "\n",
    "training_hours: завершенные часы обучения\n",
    "\n",
    "target: 0 - Не ищу смены работы, 1 - Ищу смену работы"
   ]
  },
  {
   "cell_type": "code",
   "execution_count": 2,
   "metadata": {},
   "outputs": [
    {
     "name": "stdout",
     "output_type": "stream",
     "text": [
      "<class 'pandas.core.frame.DataFrame'>\n",
      "Index: 2129 entries, city_41 to city_102\n",
      "Data columns (total 11 columns):\n",
      " #   Column                  Non-Null Count  Dtype  \n",
      "---  ------                  --------------  -----  \n",
      " 0   city_development_index  2129 non-null   float64\n",
      " 1   gender                  1621 non-null   object \n",
      " 2   relevent_experience     2129 non-null   object \n",
      " 3   enrolled_university     2098 non-null   object \n",
      " 4   education_level         2077 non-null   object \n",
      " 5   major_discipline        1817 non-null   object \n",
      " 6   experience              2124 non-null   object \n",
      " 7   company_size            1507 non-null   object \n",
      " 8   company_type            1495 non-null   object \n",
      " 9   last_new_job            2089 non-null   object \n",
      " 10  training_hours          2129 non-null   int64  \n",
      "dtypes: float64(1), int64(1), object(9)\n",
      "memory usage: 199.6+ KB\n"
     ]
    }
   ],
   "source": [
    "#Выводим информацию о датасете\n",
    "data.info()"
   ]
  },
  {
   "cell_type": "code",
   "execution_count": 4,
   "metadata": {},
   "outputs": [],
   "source": [
    "#Кодируем столбец из категориального признака\n",
    "data['gender'] = np.where(data['gender'] == 'Male', 1, 0)\n",
    "data['education_level'] = np.where(data['education_level'] == 'Masters', 0, 1)\n",
    "data['relevent_experience'] = np.where(data['relevent_experience'] == 'No relevent experience',0,1)"
   ]
  },
  {
   "cell_type": "code",
   "execution_count": 7,
   "metadata": {},
   "outputs": [
    {
     "data": {
      "text/html": [
       "<div>\n",
       "<style scoped>\n",
       "    .dataframe tbody tr th:only-of-type {\n",
       "        vertical-align: middle;\n",
       "    }\n",
       "\n",
       "    .dataframe tbody tr th {\n",
       "        vertical-align: top;\n",
       "    }\n",
       "\n",
       "    .dataframe thead th {\n",
       "        text-align: right;\n",
       "    }\n",
       "</style>\n",
       "<table border=\"1\" class=\"dataframe\">\n",
       "  <thead>\n",
       "    <tr style=\"text-align: right;\">\n",
       "      <th></th>\n",
       "      <th>city_development_index</th>\n",
       "      <th>gender</th>\n",
       "      <th>relevent_experience</th>\n",
       "      <th>enrolled_university</th>\n",
       "      <th>education_level</th>\n",
       "      <th>major_discipline</th>\n",
       "      <th>experience</th>\n",
       "      <th>company_size</th>\n",
       "      <th>company_type</th>\n",
       "      <th>last_new_job</th>\n",
       "      <th>training_hours</th>\n",
       "    </tr>\n",
       "    <tr>\n",
       "      <th>city</th>\n",
       "      <th></th>\n",
       "      <th></th>\n",
       "      <th></th>\n",
       "      <th></th>\n",
       "      <th></th>\n",
       "      <th></th>\n",
       "      <th></th>\n",
       "      <th></th>\n",
       "      <th></th>\n",
       "      <th></th>\n",
       "      <th></th>\n",
       "    </tr>\n",
       "  </thead>\n",
       "  <tbody>\n",
       "    <tr>\n",
       "      <th>city_41</th>\n",
       "      <td>0.827</td>\n",
       "      <td>1</td>\n",
       "      <td>1</td>\n",
       "      <td>2</td>\n",
       "      <td>1</td>\n",
       "      <td>5</td>\n",
       "      <td>9</td>\n",
       "      <td>3</td>\n",
       "      <td>0</td>\n",
       "      <td>6</td>\n",
       "      <td>21</td>\n",
       "    </tr>\n",
       "    <tr>\n",
       "      <th>city_103</th>\n",
       "      <td>0.920</td>\n",
       "      <td>0</td>\n",
       "      <td>1</td>\n",
       "      <td>3</td>\n",
       "      <td>1</td>\n",
       "      <td>5</td>\n",
       "      <td>5</td>\n",
       "      <td>0</td>\n",
       "      <td>3</td>\n",
       "      <td>6</td>\n",
       "      <td>98</td>\n",
       "    </tr>\n",
       "    <tr>\n",
       "      <th>city_21</th>\n",
       "      <td>0.624</td>\n",
       "      <td>1</td>\n",
       "      <td>0</td>\n",
       "      <td>3</td>\n",
       "      <td>1</td>\n",
       "      <td>0</td>\n",
       "      <td>17</td>\n",
       "      <td>0</td>\n",
       "      <td>3</td>\n",
       "      <td>4</td>\n",
       "      <td>15</td>\n",
       "    </tr>\n",
       "    <tr>\n",
       "      <th>city_13</th>\n",
       "      <td>0.827</td>\n",
       "      <td>1</td>\n",
       "      <td>1</td>\n",
       "      <td>3</td>\n",
       "      <td>0</td>\n",
       "      <td>5</td>\n",
       "      <td>7</td>\n",
       "      <td>1</td>\n",
       "      <td>3</td>\n",
       "      <td>6</td>\n",
       "      <td>39</td>\n",
       "    </tr>\n",
       "    <tr>\n",
       "      <th>city_103</th>\n",
       "      <td>0.920</td>\n",
       "      <td>1</td>\n",
       "      <td>1</td>\n",
       "      <td>3</td>\n",
       "      <td>1</td>\n",
       "      <td>5</td>\n",
       "      <td>15</td>\n",
       "      <td>8</td>\n",
       "      <td>3</td>\n",
       "      <td>5</td>\n",
       "      <td>72</td>\n",
       "    </tr>\n",
       "  </tbody>\n",
       "</table>\n",
       "</div>"
      ],
      "text/plain": [
       "          city_development_index  gender  relevent_experience  \\\n",
       "city                                                            \n",
       "city_41                    0.827       1                    1   \n",
       "city_103                   0.920       0                    1   \n",
       "city_21                    0.624       1                    0   \n",
       "city_13                    0.827       1                    1   \n",
       "city_103                   0.920       1                    1   \n",
       "\n",
       "          enrolled_university  education_level  major_discipline  experience  \\\n",
       "city                                                                           \n",
       "city_41                     2                1                 5           9   \n",
       "city_103                    3                1                 5           5   \n",
       "city_21                     3                1                 0          17   \n",
       "city_13                     3                0                 5           7   \n",
       "city_103                    3                1                 5          15   \n",
       "\n",
       "          company_size  company_type  last_new_job  training_hours  \n",
       "city                                                                \n",
       "city_41              3             0             6              21  \n",
       "city_103             0             3             6              98  \n",
       "city_21              0             3             4              15  \n",
       "city_13              1             3             6              39  \n",
       "city_103             8             3             5              72  "
      ]
     },
     "execution_count": 7,
     "metadata": {},
     "output_type": "execute_result"
    }
   ],
   "source": [
    "my_set = set(data.enrolled_university)\n",
    "i = 0\n",
    "for item in my_set:\n",
    "    data['enrolled_university'] = data['enrolled_university'].replace(item, i)\n",
    "    i = i + 1\n",
    "\n",
    "    \n",
    "my_set = set(data.last_new_job)\n",
    "i = 0\n",
    "for item in my_set:\n",
    "    data['last_new_job'] = data['last_new_job'].replace(item, i)\n",
    "    i = i + 1\n",
    "    \n",
    "my_set = set(data.major_discipline)\n",
    "i = 0\n",
    "for item in my_set:\n",
    "    data['major_discipline'] = data['major_discipline'].replace(item, i)\n",
    "    i = i + 1\n",
    "    \n",
    "my_set = set(data.company_type)\n",
    "i = 0\n",
    "for item in my_set:\n",
    "    data['company_type'] = data['company_type'].replace(item, i)\n",
    "    i = i + 1\n",
    "    \n",
    "my_set = set(data.company_size)\n",
    "i = 0\n",
    "for item in my_set:\n",
    "    data['company_size'] = data['company_size'].replace(item, i)\n",
    "    i = i + 1\n",
    "    \n",
    "my_set = set(data.experience)\n",
    "i = 0\n",
    "for item in my_set:\n",
    "    data['experience'] = data['experience'].replace(item, i)\n",
    "    i = i + 1\n",
    "\n",
    "data.loc[data.experience == 'NaN' , 'experience'] = 0\n",
    "\n",
    "data.loc[data.last_new_job == 'never' , 'last_new_job'] = 0\n",
    "data.loc[data.last_new_job == 'NaN' , 'last_new_job'] = 0\n",
    "data.loc[data.last_new_job == '>4' , 'last_new_job'] = 5\n",
    "\n",
    "data.loc[data.gender == 'NaN' , 'gender'] = 0"
   ]
  },
  {
   "cell_type": "markdown",
   "metadata": {},
   "source": [
    "Выделяем целевую переменную"
   ]
  },
  {
   "cell_type": "code",
   "execution_count": 9,
   "metadata": {},
   "outputs": [],
   "source": [
    "target = data.education_level\n",
    "train = data.drop('education_level', axis = 1) "
   ]
  },
  {
   "cell_type": "code",
   "execution_count": 10,
   "metadata": {},
   "outputs": [
    {
     "name": "stdout",
     "output_type": "stream",
     "text": [
      "<class 'pandas.core.frame.DataFrame'>\n",
      "Index: 2129 entries, city_41 to city_102\n",
      "Data columns (total 10 columns):\n",
      " #   Column                  Non-Null Count  Dtype  \n",
      "---  ------                  --------------  -----  \n",
      " 0   city_development_index  2129 non-null   float64\n",
      " 1   gender                  2129 non-null   int32  \n",
      " 2   relevent_experience     2129 non-null   int32  \n",
      " 3   enrolled_university     2129 non-null   int64  \n",
      " 4   major_discipline        2129 non-null   int64  \n",
      " 5   experience              2129 non-null   int64  \n",
      " 6   company_size            2129 non-null   int64  \n",
      " 7   company_type            2129 non-null   int64  \n",
      " 8   last_new_job            2129 non-null   int64  \n",
      " 9   training_hours          2129 non-null   int64  \n",
      "dtypes: float64(1), int32(2), int64(7)\n",
      "memory usage: 166.3+ KB\n"
     ]
    }
   ],
   "source": [
    "train.info()"
   ]
  },
  {
   "cell_type": "markdown",
   "metadata": {},
   "source": [
    "Выделяем тренировочную и тестовую выборки"
   ]
  },
  {
   "cell_type": "code",
   "execution_count": 11,
   "metadata": {},
   "outputs": [
    {
     "name": "stdout",
     "output_type": "stream",
     "text": [
      "1490 639\n"
     ]
    }
   ],
   "source": [
    "#y - целевая переменнная (target)\n",
    "from sklearn.model_selection import train_test_split\n",
    "X_train, X_test, y_train, y_test = train_test_split(train, target, test_size = 0.3, random_state = 42)\n",
    "\n",
    "N_train, _ = X_train.shape \n",
    "N_test,  _ = X_test.shape \n",
    "print (N_train, N_test)"
   ]
  },
  {
   "cell_type": "markdown",
   "metadata": {},
   "source": [
    "Построим классификатор логистической регрессии"
   ]
  },
  {
   "cell_type": "code",
   "execution_count": 12,
   "metadata": {},
   "outputs": [
    {
     "data": {
      "text/plain": [
       "GridSearchCV(cv=10, estimator=LogisticRegression(solver='liblinear'),\n",
       "             param_grid={'C': array([1.e-05, 1.e-04, 1.e-03, 1.e-02, 1.e-01, 1.e+00, 1.e+01, 1.e+02,\n",
       "       1.e+03, 1.e+04, 1.e+05]),\n",
       "                         'penalty': ['l1', 'l2']})"
      ]
     },
     "execution_count": 12,
     "metadata": {},
     "output_type": "execute_result"
    }
   ],
   "source": [
    "from sklearn.linear_model import LogisticRegression\n",
    "from sklearn.model_selection import GridSearchCV\n",
    "from sklearn.model_selection import StratifiedKFold\n",
    "\n",
    "grid={\"C\":np.logspace(-5,5,11), \"penalty\":[\"l1\",\"l2\"]}\n",
    "logreg=LogisticRegression(solver='liblinear')\n",
    "logreg_cv=GridSearchCV(logreg,grid,cv=10)\n",
    "logreg_cv.fit(X_train,y_train)"
   ]
  },
  {
   "cell_type": "code",
   "execution_count": 13,
   "metadata": {},
   "outputs": [
    {
     "data": {
      "text/plain": [
       "LogisticRegression(C=1e-05, solver='liblinear')"
      ]
     },
     "execution_count": 13,
     "metadata": {},
     "output_type": "execute_result"
    }
   ],
   "source": [
    "logreg_cv.best_estimator_ "
   ]
  },
  {
   "cell_type": "markdown",
   "metadata": {},
   "source": [
    "Оценим точность построенного классификатора с помощью метрик precision, recall и F1"
   ]
  },
  {
   "cell_type": "code",
   "execution_count": 15,
   "metadata": {},
   "outputs": [
    {
     "name": "stdout",
     "output_type": "stream",
     "text": [
      "f1:0.872065647018388\n",
      "precision:0.7731543624161075\n",
      "recall:1.0\n"
     ]
    }
   ],
   "source": [
    "from sklearn.model_selection import cross_val_score\n",
    "print(\"f1:\"+str(np.average(cross_val_score(logreg_cv, X_train, y_train, scoring='f1'))))\n",
    "print(\"precision:\"+str(np.average(cross_val_score(logreg_cv, X_train, y_train, scoring='precision'))))\n",
    "print(\"recall:\"+str(np.average(cross_val_score(logreg_cv, X_train, y_train, scoring='recall'))))"
   ]
  },
  {
   "cell_type": "code",
   "execution_count": 16,
   "metadata": {},
   "outputs": [
    {
     "name": "stdout",
     "output_type": "stream",
     "text": [
      "f1:0.8589274681471991\n",
      "precision:0.7527436023622047\n",
      "recall:1.0\n"
     ]
    }
   ],
   "source": [
    "from sklearn.model_selection import cross_val_score\n",
    "print(\"f1:\"+str(np.average(cross_val_score(logreg_cv, X_test, y_test, scoring='f1'))))\n",
    "print(\"precision:\"+str(np.average(cross_val_score(logreg_cv, X_test, y_test, scoring='precision'))))\n",
    "print(\"recall:\"+str(np.average(cross_val_score(logreg_cv, X_test, y_test, scoring='recall'))))"
   ]
  },
  {
   "cell_type": "markdown",
   "metadata": {},
   "source": [
    "Построим классификатор типа Случайный Лес (Random Forest) для решения той же задачи классификации"
   ]
  },
  {
   "cell_type": "code",
   "execution_count": 17,
   "metadata": {},
   "outputs": [
    {
     "data": {
      "text/plain": [
       "array([1, 1, 1, 1, 1, 1, 1, 1, 1, 1, 1, 1, 1, 1, 1, 1, 0, 1, 1, 1, 1, 1,\n",
       "       1, 1, 1, 1, 1, 1, 1, 1, 1, 1, 1, 0, 1, 1, 0, 1, 1, 1, 1, 1, 1, 1,\n",
       "       1, 1, 1, 1, 1, 1, 1, 1, 1, 1, 1, 1, 0, 1, 1, 1, 1, 1, 1, 1, 1, 1,\n",
       "       1, 1, 1, 1, 1, 1, 1, 1, 1, 1, 1, 1, 1, 1, 1, 1, 1, 1, 1, 1, 1, 1,\n",
       "       1, 1, 1, 1, 1, 1, 1, 1, 1, 1, 1, 1, 1, 1, 1, 1, 1, 1, 1, 1, 1, 1,\n",
       "       1, 1, 1, 1, 1, 1, 1, 1, 1, 1, 1, 1, 1, 1, 1, 1, 1, 1, 1, 1, 1, 1,\n",
       "       1, 1, 1, 1, 1, 1, 1, 1, 1, 1, 1, 1, 1, 1, 1, 1, 1, 1, 1, 1, 1, 1,\n",
       "       1, 1, 1, 1, 1, 1, 1, 1, 1, 1, 1, 1, 1, 1, 1, 1, 1, 1, 1, 1, 1, 1,\n",
       "       1, 1, 1, 1, 1, 1, 1, 1, 0, 1, 1, 1, 1, 1, 1, 1, 1, 1, 1, 1, 1, 1,\n",
       "       1, 1, 1, 1, 1, 1, 1, 1, 1, 1, 1, 1, 1, 1, 1, 1, 1, 1, 1, 1, 1, 1,\n",
       "       1, 1, 1, 1, 1, 1, 1, 1, 1, 1, 1, 1, 1, 1, 0, 1, 1, 1, 1, 1, 1, 1,\n",
       "       1, 1, 1, 1, 1, 1, 1, 1, 1, 1, 1, 1, 1, 1, 1, 1, 1, 1, 1, 1, 1, 1,\n",
       "       1, 1, 1, 1, 1, 1, 1, 1, 1, 1, 1, 1, 1, 1, 1, 1, 1, 1, 1, 1, 1, 1,\n",
       "       0, 1, 1, 1, 1, 1, 1, 1, 1, 1, 1, 1, 1, 1, 1, 1, 0, 1, 1, 1, 1, 1,\n",
       "       1, 0, 1, 1, 1, 1, 1, 1, 1, 1, 1, 1, 1, 1, 1, 1, 1, 1, 1, 1, 1, 1,\n",
       "       1, 1, 1, 1, 1, 1, 1, 1, 1, 1, 1, 1, 1, 1, 1, 1, 1, 1, 1, 1, 1, 1,\n",
       "       1, 1, 1, 1, 1, 1, 1, 1, 1, 1, 1, 1, 1, 1, 1, 1, 1, 1, 1, 1, 1, 1,\n",
       "       1, 1, 1, 1, 1, 1, 1, 1, 1, 1, 1, 1, 1, 1, 1, 1, 1, 1, 1, 1, 1, 1,\n",
       "       1, 1, 1, 1, 1, 1, 1, 1, 1, 1, 1, 1, 1, 1, 1, 1, 1, 1, 1, 1, 1, 1,\n",
       "       1, 1, 1, 1, 1, 1, 1, 1, 1, 1, 1, 1, 1, 1, 1, 1, 1, 1, 1, 1, 1, 1,\n",
       "       0, 1, 1, 1, 1, 1, 1, 1, 1, 1, 1, 1, 1, 1, 1, 1, 1, 1, 1, 1, 1, 1,\n",
       "       1, 1, 1, 1, 1, 1, 1, 1, 1, 1, 1, 1, 0, 1, 1, 1, 1, 1, 1, 1, 1, 1,\n",
       "       1, 1, 1, 1, 1, 1, 1, 1, 1, 1, 1, 1, 1, 1, 1, 1, 1, 1, 1, 1, 1, 1,\n",
       "       1, 1, 1, 1, 1, 1, 1, 1, 1, 0, 1, 1, 1, 1, 1, 1, 1, 1, 1, 1, 1, 1,\n",
       "       1, 1, 1, 1, 1, 1, 1, 1, 1, 1, 1, 1, 1, 1, 1, 1, 1, 1, 1, 1, 1, 1,\n",
       "       1, 1, 1, 1, 1, 1, 1, 1, 1, 1, 1, 1, 1, 1, 1, 1, 1, 1, 1, 1, 1, 1,\n",
       "       1, 1, 1, 1, 1, 1, 1, 1, 1, 1, 1, 1, 1, 1, 1, 1, 1, 1, 1, 1, 1, 1,\n",
       "       1, 1, 1, 1, 1, 1, 1, 1, 1, 1, 1, 0, 1, 1, 1, 1, 1, 1, 1, 1, 1, 1,\n",
       "       1, 1, 1, 1, 1, 1, 1, 1, 1, 1, 1, 1, 1, 1, 1, 1, 1, 1, 1, 1, 1, 1,\n",
       "       1])"
      ]
     },
     "execution_count": 17,
     "metadata": {},
     "output_type": "execute_result"
    }
   ],
   "source": [
    "from sklearn.ensemble import RandomForestClassifier \n",
    "param_grid = { 'n_estimators': [50, 100, 150],'max_features': ['auto'],'max_depth' : list(range(1, 10)), 'criterion' :['gini']}\n",
    "RandForCrit = GridSearchCV(estimator = RandomForestClassifier(), param_grid = param_grid, cv = 5, refit = True) \n",
    "RandForCrit.fit(X_train, y_train)\n",
    "RandForCrit.predict(X_test)"
   ]
  },
  {
   "cell_type": "markdown",
   "metadata": {},
   "source": [
    "Оценим точность построенного классификатора с помощью метрик precision, recall и F1"
   ]
  },
  {
   "cell_type": "code",
   "execution_count": 18,
   "metadata": {},
   "outputs": [
    {
     "name": "stdout",
     "output_type": "stream",
     "text": [
      "f1:0.878701665883123\n",
      "precision:0.7870505745429996\n",
      "recall:0.9904611330698287\n"
     ]
    }
   ],
   "source": [
    "print(\"f1:\"+str(np.average(cross_val_score(RandForCrit.best_estimator_, X_train, y_train, scoring='f1'))))\n",
    "print(\"precision:\"+str(np.average(cross_val_score(RandForCrit.best_estimator_, X_train, y_train, scoring='precision'))))\n",
    "print(\"recall:\"+str(np.average(cross_val_score(RandForCrit.best_estimator_, X_train, y_train, scoring='recall'))))"
   ]
  },
  {
   "cell_type": "markdown",
   "metadata": {},
   "source": [
    "Оценим точность построенного классификатора с помощью метрик precision, recall и F1 на тестовой выборке"
   ]
  },
  {
   "cell_type": "markdown",
   "metadata": {},
   "source": [
    "Построим классификатор типа Случайный Лес (Random Forest) для решения той же задачи классификации"
   ]
  },
  {
   "cell_type": "markdown",
   "metadata": {},
   "source": [
    "Оценим точность построенного классификатора с помощью метрик precision, recall и F1 на тестовой выборке"
   ]
  },
  {
   "cell_type": "code",
   "execution_count": 19,
   "metadata": {},
   "outputs": [
    {
     "name": "stdout",
     "output_type": "stream",
     "text": [
      "f1:0.8525014473313075\n",
      "precision:0.7535815669382789\n",
      "recall:0.9813359106529209\n"
     ]
    }
   ],
   "source": [
    "print(\"f1:\"+str(np.average(cross_val_score(RandForCrit.best_estimator_, X_test, y_test, scoring='f1'))))\n",
    "print(\"precision:\"+str(np.average(cross_val_score(RandForCrit.best_estimator_, X_test, y_test, scoring='precision'))))\n",
    "print(\"recall:\"+str(np.average(cross_val_score(RandForCrit.best_estimator_, X_test, y_test, scoring='recall'))))"
   ]
  },
  {
   "cell_type": "markdown",
   "metadata": {},
   "source": [
    "Сравним результаты:"
   ]
  },
  {
   "cell_type": "markdown",
   "metadata": {},
   "source": [
    "f1 - лучше у классификатора Логистической регрессии"
   ]
  },
  {
   "cell_type": "markdown",
   "metadata": {},
   "source": [
    "precision - лучше у классификатора Случайного леса"
   ]
  },
  {
   "cell_type": "markdown",
   "metadata": {},
   "source": [
    "recall - лучше у классификатора Логистической регрессии"
   ]
  }
 ],
 "metadata": {
  "kernelspec": {
   "display_name": "Python 3",
   "language": "python",
   "name": "python3"
  },
  "language_info": {
   "codemirror_mode": {
    "name": "ipython",
    "version": 3
   },
   "file_extension": ".py",
   "mimetype": "text/x-python",
   "name": "python",
   "nbconvert_exporter": "python",
   "pygments_lexer": "ipython3",
   "version": "3.8.5"
  }
 },
 "nbformat": 4,
 "nbformat_minor": 4
}
