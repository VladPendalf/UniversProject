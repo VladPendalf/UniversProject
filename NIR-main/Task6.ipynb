{
 "cells": [
  {
   "cell_type": "markdown",
   "metadata": {},
   "source": [
    "Практическое задание 6\n",
    "\n",
    "КМБО-06-20, Бундуки Владислав, Вариант 4\n",
    "\n",
    "Тема: \"Популярные деревья в районах Нью-Йорка\""
   ]
  },
  {
   "cell_type": "markdown",
   "metadata": {},
   "source": [
    "Исходные данные:\n",
    "1)Набор данных - https://www.kaggle.com/new-york-city/ny-2015-street-tree-census-tree-data?select=2015-street-tree-census-tree-data.csv\n",
    "\n",
    " \n",
    "Задачи:\n",
    "\n",
    "1)Выделить районы, в которых состояние деревьев аномально хорошее или плохое;\n",
    "\n",
    "2)Выделить наилучший район по состоянию деревьев;\n",
    "\n",
    "3)Выделить виды деревьев (или более общие элементы классификации), обладающие наилучшими показателями «здоровья»"
   ]
  },
  {
   "cell_type": "code",
   "execution_count": 1,
   "metadata": {},
   "outputs": [],
   "source": [
    "import pandas as pd\n",
    "import numpy as np\n",
    "import matplotlib.pyplot as plt # библиотека для визуализации\n",
    "import seaborn as sns\n",
    "sns.set(style=\"white\", color_codes=True)\n",
    "%matplotlib inline\n",
    "import warnings\n",
    "warnings.filterwarnings('ignore')\n",
    "data = pd.read_csv('2015-street-tree-census-tree-data.csv')"
   ]
  },
  {
   "cell_type": "code",
   "execution_count": 2,
   "metadata": {},
   "outputs": [
    {
     "name": "stdout",
     "output_type": "stream",
     "text": [
      "<class 'pandas.core.frame.DataFrame'>\n",
      "RangeIndex: 683788 entries, 0 to 683787\n",
      "Data columns (total 45 columns):\n",
      " #   Column            Non-Null Count   Dtype  \n",
      "---  ------            --------------   -----  \n",
      " 0   tree_id           683788 non-null  int64  \n",
      " 1   block_id          683788 non-null  int64  \n",
      " 2   created_at        683788 non-null  object \n",
      " 3   tree_dbh          683788 non-null  int64  \n",
      " 4   stump_diam        683788 non-null  int64  \n",
      " 5   curb_loc          683788 non-null  object \n",
      " 6   status            683788 non-null  object \n",
      " 7   health            652172 non-null  object \n",
      " 8   spc_latin         652169 non-null  object \n",
      " 9   spc_common        652169 non-null  object \n",
      " 10  steward           652173 non-null  object \n",
      " 11  guards            652172 non-null  object \n",
      " 12  sidewalk          652172 non-null  object \n",
      " 13  user_type         683788 non-null  object \n",
      " 14  problems          652124 non-null  object \n",
      " 15  root_stone        683788 non-null  object \n",
      " 16  root_grate        683788 non-null  object \n",
      " 17  root_other        683788 non-null  object \n",
      " 18  trunk_wire        683788 non-null  object \n",
      " 19  trnk_light        683788 non-null  object \n",
      " 20  trnk_other        683788 non-null  object \n",
      " 21  brch_light        683788 non-null  object \n",
      " 22  brch_shoe         683788 non-null  object \n",
      " 23  brch_other        683788 non-null  object \n",
      " 24  address           683788 non-null  object \n",
      " 25  postcode          683788 non-null  int64  \n",
      " 26  zip_city          683788 non-null  object \n",
      " 27  community board   683788 non-null  int64  \n",
      " 28  borocode          683788 non-null  int64  \n",
      " 29  borough           683788 non-null  object \n",
      " 30  cncldist          683788 non-null  int64  \n",
      " 31  st_assem          683788 non-null  int64  \n",
      " 32  st_senate         683788 non-null  int64  \n",
      " 33  nta               683788 non-null  object \n",
      " 34  nta_name          683788 non-null  object \n",
      " 35  boro_ct           683788 non-null  int64  \n",
      " 36  state             683788 non-null  object \n",
      " 37  latitude          683788 non-null  float64\n",
      " 38  longitude         683788 non-null  float64\n",
      " 39  x_sp              683788 non-null  float64\n",
      " 40  y_sp              683788 non-null  float64\n",
      " 41  council district  677269 non-null  float64\n",
      " 42  census tract      677269 non-null  float64\n",
      " 43  bin               674229 non-null  float64\n",
      " 44  bbl               674229 non-null  float64\n",
      "dtypes: float64(8), int64(11), object(26)\n",
      "memory usage: 234.8+ MB\n"
     ]
    }
   ],
   "source": [
    "data.info()"
   ]
  },
  {
   "cell_type": "markdown",
   "metadata": {},
   "source": [
    "Нормируем числовые признаки и обрабатываем категориальные признаки:"
   ]
  },
  {
   "cell_type": "code",
   "execution_count": 3,
   "metadata": {},
   "outputs": [],
   "source": [
    "import math\n",
    "arr = ['block_id','tree_dbh','stump_diam','postcode','community board','cncldist','st_assem','st_senate','latitude','longitude','x_sp','y_sp']\n",
    "for column in arr:\n",
    "    data[column] = (data[column] - data[column].mean())/(math.sqrt(data[column].var()))\n",
    "    \n",
    "data['state'] = np.where(data['state'] == 'New York', 1, 0)\n",
    "\n",
    "#Расположено ли дерево вдоль бордюра или со смещением от него\n",
    "data['curb_loc'] = np.where(data['curb_loc'] == 'OnCurb', 1, 0)\n",
    "\n",
    "#Повреждение тратуара в непосредственной близости от дерева\n",
    "data['sidewalk'] = np.where(data['sidewalk'] == 'Damage', 1, 0)\n",
    "\n",
    "#Указывает на наличие проблемы с корнями, вызванной брусчаткой в ложе дерева\n",
    "data['root_stone'] = np.where(data['root_stone'] == 'Yes', 1, 0)\n",
    "\n",
    "#Указывает на наличие проблемы с корнями, вызванной металлическими решетками в ложе дерева\n",
    "data['root_grate'] = np.where(data['root_grate'] == 'Yes', 1, 0)\n",
    "\n",
    "#Указывает на наличие других корневых проблем\n",
    "data['root_other'] = np.where(data['root_other'] == 'Yes', 1, 0)\n",
    "\n",
    "#Указывает на наличие проблемы со стволом, вызванной проволокой или веревкой, обмотанной вокруг ствола\n",
    "data['trunk_wire'] = np.where(data['trunk_wire'] == 'Yes', 1, 0)\n",
    "\n",
    "#Указывает на наличие проблем со стволом, вызванных установленным на дереве освещением\n",
    "data['trnk_light'] = np.where(data['trnk_light'] == 'Yes', 1, 0)\n",
    "\n",
    "#Указывает на наличие других проблем с магистралью\n",
    "data['trnk_other'] = np.where(data['trnk_other'] == 'Yes', 1, 0)\n",
    "\n",
    "#Указывает на наличие проблемы с ветвями, вызванной светильниками (обычно струнными) или проводами в ветвях\n",
    "data['brch_light'] = np.where(data['brch_light'] == 'Yes', 1, 0)\n",
    "\n",
    "#Указывает на наличие проблемы с ветками, вызванной кроссовками в ветках\n",
    "data['brch_shoe'] = np.where(data['brch_shoe'] == 'Yes', 1, 0)\n",
    "\n",
    "#Указывает на наличие других проблем с ветвями\n",
    "data['brch_other'] = np.where(data['brch_other'] == 'Yes', 1, 0)\n",
    "\n",
    "#Город, полученный из почтового индекса\n",
    "my_set = set(data.zip_city)\n",
    "i = 0\n",
    "for item in my_set:\n",
    "    data['zip_city'] = data['zip_city'].replace(item, i)\n",
    "    i = i + 1\n",
    "\n",
    "#Это название NTA, соответствующее области табуляции района по переписи населения США 2010 года, в которую попадает точка дерева\n",
    "my_set = set(data.nta_name)\n",
    "i = 0\n",
    "for item in my_set:\n",
    "    data['nta_name'] = data['nta_name'].replace(item, i)\n",
    "    i = i + 1\n",
    "\n",
    "#Это код NTA, соответствующий району, в который попадает точка дерева, согласно переписи населения США 2010 года.\n",
    "my_set = set(data.nta)\n",
    "i = 0\n",
    "for item in my_set:\n",
    "    data['nta'] = data['nta'].replace(item, i)\n",
    "    i = i + 1\n",
    "\n",
    "#Название района, в котором находится точка произрастания деревьев\n",
    "my_set = set(data.borough)\n",
    "i = 0\n",
    "for item in my_set:\n",
    "    data['borough'] = data['borough'].replace(item, i)\n",
    "    i = i + 1\n",
    "\n",
    "#Город, полученный из почтового индекса. Часто (но не всегда) это то же самое, что и район.\n",
    "my_set = set(data.postcode)\n",
    "i = 0\n",
    "for item in my_set:\n",
    "    data['postcode'] = data['postcode'].replace(item, i)\n",
    "    i = i + 1\n",
    "\n",
    "#Указывает, присутствует ли ограждение, и считает ли пользователь, что это полезное или вредное ограждение. Не регистрируется для мертвых деревьев и пней.\n",
    "my_set = set(data.guards)\n",
    "i = 0\n",
    "for item in my_set:\n",
    "    data['guards'] = data['guards'].replace(item, i)\n",
    "    i = i + 1\n",
    "\n",
    "#Это поле описывает категорию пользователя, который собрал данные этой точки дерева.\n",
    "my_set = set(data.user_type)\n",
    "i = 0\n",
    "for item in my_set:\n",
    "    data['user_type'] = data['user_type'].replace(item, i)\n",
    "    i = i + 1    \n",
    "    \n",
    "#Указывает количество уникальных признаков бережного отношения, отмеченных для данного дерева. Не регистрируется для пней или мертвых деревьев.\n",
    "my_set = set(data.steward)\n",
    "i = 0\n",
    "for item in my_set:\n",
    "    data['steward'] = data['steward'].replace(item, i)\n",
    "    i = i + 1\n",
    "\n",
    "#Общее название вида, например, \"красный клен\"\n",
    "my_set = set(data.spc_common)\n",
    "i = 0\n",
    "for item in my_set:\n",
    "    data['spc_common'] = data['spc_common'].replace(item, i)\n",
    "    i = i + 1\n",
    "    \n",
    "#Научное название вида, например, \"Acer rubrum\".\n",
    "my_set = set(data.spc_latin)\n",
    "i = 0\n",
    "for item in my_set:\n",
    "    data['spc_latin'] = data['spc_latin'].replace(item, i)\n",
    "    i = i + 1\n",
    "\n",
    "\n",
    "#Здоровье деревьев    \n",
    "my_set = set(data.health)\n",
    "i = 0\n",
    "for item in my_set:\n",
    "    data['health'] = data['health'].replace(item, i)\n",
    "    i = i + 1    \n",
    "    \n",
    "data.loc[data.health == 'NaN', 'health'] = 0      \n",
    "data.loc[data.health == 0, 'health'] = 3       \n",
    "    \n",
    "#Указывает, является ли дерево живым, стоящим мертвым или пнем.\n",
    "data.loc[data.status == 'Alive', 'status'] = 2\n",
    "data.loc[data.status == 'Stump', 'status'] = 1\n",
    "data.loc[data.status == 'Dead', 'status'] = 0\n",
    "\n",
    "data.loc[data.spc_latin == 'NaN', 'spc_latin'] = 0\n",
    "data.loc[data.spc_common == 'NaN', 'spc_common'] = 0\n",
    "data.loc[data.steward == 'NaN', 'steward'] = 0\n",
    "data.loc[data.guards == 'NaN', 'guards'] = 0\n",
    "data.loc[data.sidewalk == 'NaN', 'sidewalk'] = 0"
   ]
  },
  {
   "cell_type": "code",
   "execution_count": 4,
   "metadata": {},
   "outputs": [],
   "source": [
    "#исключим столбец с уникальными значениями: tree_id\n",
    "data = data.drop('tree_id', axis = 1)\n",
    "\n",
    "#исключим столбец, включающий результаты других столбцов\n",
    "data = data.drop('problems', axis = 1)\n",
    "\n",
    "#исключим столбец с индивидуальными параметрами\n",
    "data = data.drop('created_at', axis = 1)\n",
    "\n",
    "#исключим столбец с индивидуальными параметрами\n",
    "data = data.drop('address', axis = 1)\n",
    "\n",
    "#исключим столбцы с признаками, которые отсутствуют в документации\n",
    "data = data.drop('council district', axis = 1)\n",
    "data = data.drop('census tract', axis = 1)\n",
    "data = data.drop('bin', axis = 1)\n",
    "data = data.drop('bbl', axis = 1)"
   ]
  },
  {
   "cell_type": "code",
   "execution_count": 5,
   "metadata": {},
   "outputs": [],
   "source": [
    "#Создадим новый признак - problems {тип: число}, состоит из суммы положительных ответов о проблемах корней \n",
    "#Чем больше значение problems - тем состояние дерева хуже\n",
    "\n",
    "data['problems'] = (data['root_stone'] + data['root_grate'] + data['root_other'] + data['trunk_wire'] + data['trnk_light'] + data['trnk_other'] + data['brch_light'] + data['brch_shoe'] + data['brch_other'])"
   ]
  },
  {
   "cell_type": "markdown",
   "metadata": {},
   "source": [
    "ЗАДАЧА 1. Выделить районы, в которых состояние деревьев аномально хорошее или плохое."
   ]
  },
  {
   "cell_type": "code",
   "execution_count": 23,
   "metadata": {},
   "outputs": [
    {
     "data": {
      "text/plain": [
       "<AxesSubplot:xlabel='borough', ylabel='problems'>"
      ]
     },
     "execution_count": 23,
     "metadata": {},
     "output_type": "execute_result"
    },
    {
     "data": {
      "image/png": "[encoded data removed]",
      "text/plain": [
       "<Figure size 432x432 with 1 Axes>"
      ]
     },
     "metadata": {
      "needs_background": "light"
     },
     "output_type": "display_data"
    }
   ],
   "source": [
    "fig, (axis1) = plt.subplots(1,1,figsize=(6,6))\n",
    "\n",
    "data_status = data[[\"problems\",\"borough\"]].groupby(['borough'],as_index=False).mean()\n",
    "\n",
    "sns.barplot(x='borough', y='problems', data=data_status,order=[0,1,2,3,4],ax=axis1)"
   ]
  },
  {
   "cell_type": "code",
   "execution_count": 28,
   "metadata": {},
   "outputs": [
    {
     "data": {
      "text/plain": [
       "<AxesSubplot:xlabel='borough', ylabel='health'>"
      ]
     },
     "execution_count": 28,
     "metadata": {},
     "output_type": "execute_result"
    },
    {
     "data": {
      "image/png": "[encoded data removed]",
      "text/plain": [
       "<Figure size 720x360 with 2 Axes>"
      ]
     },
     "metadata": {
      "needs_background": "light"
     },
     "output_type": "display_data"
    }
   ],
   "source": [
    "tips = data\n",
    "fig, (axis3,axis4) = plt.subplots(1,2,figsize=(10,5))\n",
    "sns.boxplot(x = 'borough' , y = 'problems', data = tips ,palette=\"PRGn\", ax = axis3)\n",
    "sns.boxplot(x = 'borough' , y = 'health', data = tips ,palette=\"PRGn\", ax = axis4)"
   ]
  },
  {
   "cell_type": "markdown",
   "metadata": {},
   "source": [
    "По диаграмме размаха для каждого района - видим, что район с аномально хорошим состоянием деревьев - это Staten Island, а район с аномально плохим состоянием деревьев - это Brooklyn."
   ]
  },
  {
   "cell_type": "markdown",
   "metadata": {},
   "source": [
    "ЗАДАЧА 2. Выделить наилучший район по состоянию деревьев."
   ]
  },
  {
   "cell_type": "code",
   "execution_count": 29,
   "metadata": {},
   "outputs": [
    {
     "data": {
      "text/plain": [
       "borough\n",
       "0    250551\n",
       "3    177293\n",
       "2    105318\n",
       "4     85203\n",
       "1     65423\n",
       "dtype: int64"
      ]
     },
     "execution_count": 29,
     "metadata": {},
     "output_type": "execute_result"
    }
   ],
   "source": [
    "data.value_counts('borough')"
   ]
  },
  {
   "cell_type": "code",
   "execution_count": 30,
   "metadata": {},
   "outputs": [
    {
     "data": {
      "text/plain": [
       "borough\n",
       "0    117581\n",
       "1     34403\n",
       "2     24795\n",
       "3     95112\n",
       "4     35975\n",
       "Name: problems, dtype: int32"
      ]
     },
     "execution_count": 30,
     "metadata": {},
     "output_type": "execute_result"
    }
   ],
   "source": [
    "#Пройдем все районы и посмотрим на количство проблем у каждого дерева\n",
    "data.groupby('borough')['problems'].sum()"
   ]
  },
  {
   "cell_type": "markdown",
   "metadata": {},
   "source": [
    "Расшифровка кода района:\n",
    "Queens ->   0       \n",
    "Brooklyn ->  3      \n",
    "Staten Island ->2  \n",
    "Bronx -> 4          \n",
    "Manhattan -> 1      "
   ]
  },
  {
   "cell_type": "markdown",
   "metadata": {},
   "source": [
    "Видим, что наилучший район по состоянию деревьев - это район Staten Island"
   ]
  },
  {
   "cell_type": "markdown",
   "metadata": {},
   "source": [
    "ЗАДАЧА 3. Выделить виды деревьев (или более общие элементы классификации), обладающие наилучшими показателями «здоровья»"
   ]
  },
  {
   "cell_type": "code",
   "execution_count": 31,
   "metadata": {},
   "outputs": [
    {
     "name": "stdout",
     "output_type": "stream",
     "text": [
      "0 2\n",
      "5 26\n",
      "6 37\n",
      "7 43\n",
      "9 9\n",
      "12 46\n",
      "15 33\n",
      "17 42\n",
      "23 10\n",
      "26 33\n",
      "27 23\n",
      "31 10\n",
      "33 18\n",
      "38 20\n",
      "48 34\n",
      "51 18\n",
      "52 38\n",
      "68 11\n",
      "77 5\n",
      "81 11\n",
      "89 5\n",
      "92 42\n",
      "97 15\n",
      "99 16\n",
      "100 29\n",
      "111 5\n",
      "113 11\n",
      "115 1\n",
      "117 7\n",
      "118 44\n",
      "124 14\n",
      "127 28\n",
      "129 12\n"
     ]
    }
   ],
   "source": [
    "#У кажого вида выделяем общую сумму проблем и выбираем виды с наименьшим числом проблем\n",
    "arr = []\n",
    "arr = data.groupby('spc_latin')['problems'].sum()\n",
    "\n",
    "for ind in range(133):\n",
    "    if arr[ind] < 50:\n",
    "        print(ind, arr[ind])"
   ]
  },
  {
   "cell_type": "markdown",
   "metadata": {},
   "source": [
    "Расшифровка закодированных видов деревьев,чьи показатели здоровья наилучшие:\n",
    "0 Tilia cordata \n",
    "5 Cotinus coggygria\n",
    "6 Quercus alba\n",
    "7 Ulmus pumila\n",
    "9 Acer buergerianum\n",
    "12 Acer nigrum\n",
    "15 Pinus resinosa\n",
    "17 Quercus rubra\n",
    "23 Cornus florida\n",
    "26 Carpinus betulus\n",
    "27 Cedrus atlantica\n",
    "31 Quercus velutina\n",
    "33 Liquidambar styraciflua\n",
    "38 Prunus virginiana \n",
    "48 Picea\n",
    "51 Aesculus glabra\n",
    "52 Fagus grandifolia \n",
    "68 Cornus mas\n",
    "77 Magnolia grandiflora\n",
    "81 Carya glabra\n",
    "89 Acer tataricum\n",
    "92 Syringa reticulata\n",
    "97 Carpinus caroliniana\n",
    "99 Chamaecyparis pisifera\n",
    "100 Carpinus japonica \n",
    "111 Fraxinus pennsylvanica \n",
    "113 Pyrus calleryana\n",
    "115 Crataegus\n",
    "117 Acer negundo\n",
    "118 Tsuga canadensis\n",
    "124 Parrotia persica\n",
    "127 Acer ginnala\n",
    "129 Pinus"
   ]
  }
 ],
 "metadata": {
  "kernelspec": {
   "display_name": "Python 3",
   "language": "python",
   "name": "python3"
  },
  "language_info": {
   "codemirror_mode": {
    "name": "ipython",
    "version": 3
   },
   "file_extension": ".py",
   "mimetype": "text/x-python",
   "name": "python",
   "nbconvert_exporter": "python",
   "pygments_lexer": "ipython3",
   "version": "3.8.5"
  }
 },
 "nbformat": 4,
 "nbformat_minor": 4
}
